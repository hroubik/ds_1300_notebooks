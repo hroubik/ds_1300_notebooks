{
 "cells": [
  {
   "cell_type": "markdown",
   "id": "22cc7829",
   "metadata": {},
   "source": [
    "# Data Visualization"
   ]
  },
  {
   "cell_type": "markdown",
   "id": "7806dc95",
   "metadata": {},
   "source": [
    "Select a dataset we have used in class (or outside of class).\n",
    "\n",
    "Generate a plot that you feel visualizes the data is an interesting way. Your plot should have the following elements:\n",
    "\n",
    ">1) Title\n",
    ">2) Legend\n",
    ">3) Axes or other Labels\n",
    ">4) Color\n",
    ">5) 1 sentence description of what your plot shows\n",
    ">6) Brief description of why you chose to make the plot the way you did.\n",
    "\n",
    "You may use pandas, matplotlib, or seaborn.\n",
    "\n",
    "Upload a pdf of the plot to Canvas."
   ]
  },
  {
   "cell_type": "code",
   "execution_count": 1,
   "id": "e3576317",
   "metadata": {},
   "outputs": [],
   "source": [
    "import pandas as pd\n",
    "import matplotlib as plt\n",
    "\n",
    "%matplotlib inline\n",
    "%config InlineBackend.figure_format='retina'"
   ]
  },
  {
   "cell_type": "code",
   "execution_count": 3,
   "id": "9c471faa-c63a-48a2-9c44-a8214cf449d5",
   "metadata": {},
   "outputs": [
    {
     "data": {
      "text/html": [
       "<div>\n",
       "<style scoped>\n",
       "    .dataframe tbody tr th:only-of-type {\n",
       "        vertical-align: middle;\n",
       "    }\n",
       "\n",
       "    .dataframe tbody tr th {\n",
       "        vertical-align: top;\n",
       "    }\n",
       "\n",
       "    .dataframe thead th {\n",
       "        text-align: right;\n",
       "    }\n",
       "</style>\n",
       "<table border=\"1\" class=\"dataframe\">\n",
       "  <thead>\n",
       "    <tr style=\"text-align: right;\">\n",
       "      <th></th>\n",
       "      <th>State</th>\n",
       "      <th>Area_tot</th>\n",
       "      <th>Area_land</th>\n",
       "      <th>Area_water</th>\n",
       "      <th>Pop_2020</th>\n",
       "      <th>Pop_2010</th>\n",
       "      <th>Rep_seats</th>\n",
       "      <th>State_bird</th>\n",
       "      <th>State_flower</th>\n",
       "      <th>State_motto</th>\n",
       "      <th>...</th>\n",
       "      <th>City_1</th>\n",
       "      <th>city_1_pop</th>\n",
       "      <th>City_2</th>\n",
       "      <th>city_2_pop</th>\n",
       "      <th>City_3</th>\n",
       "      <th>city_3_pop</th>\n",
       "      <th>City_4</th>\n",
       "      <th>city_4_pop</th>\n",
       "      <th>City_5</th>\n",
       "      <th>city_5_pop</th>\n",
       "    </tr>\n",
       "  </thead>\n",
       "  <tbody>\n",
       "    <tr>\n",
       "      <th>0</th>\n",
       "      <td>Alabama</td>\n",
       "      <td>135767</td>\n",
       "      <td>131171</td>\n",
       "      <td>4597</td>\n",
       "      <td>5024279.0</td>\n",
       "      <td>4779736</td>\n",
       "      <td>7</td>\n",
       "      <td>Yellowhammer (Northern flicker)</td>\n",
       "      <td>Camellia</td>\n",
       "      <td>Audemus jura nostra defendere</td>\n",
       "      <td>...</td>\n",
       "      <td>Birmingham</td>\n",
       "      <td>208928</td>\n",
       "      <td>Huntsville</td>\n",
       "      <td>204189.0</td>\n",
       "      <td>Montgomery</td>\n",
       "      <td>198956.0</td>\n",
       "      <td>Mobile</td>\n",
       "      <td>189572.0</td>\n",
       "      <td>Tuscaloosa</td>\n",
       "      <td>101113.0</td>\n",
       "    </tr>\n",
       "    <tr>\n",
       "      <th>1</th>\n",
       "      <td>Alaska</td>\n",
       "      <td>1723337</td>\n",
       "      <td>1477953</td>\n",
       "      <td>245384</td>\n",
       "      <td>733391.0</td>\n",
       "      <td>710231</td>\n",
       "      <td>1</td>\n",
       "      <td>Willow ptarmigan</td>\n",
       "      <td>Forget-me-not</td>\n",
       "      <td>North to the Future</td>\n",
       "      <td>...</td>\n",
       "      <td>Anchorage</td>\n",
       "      <td>291538</td>\n",
       "      <td>Juneau</td>\n",
       "      <td>32197.0</td>\n",
       "      <td>Fairbanks</td>\n",
       "      <td>31516.0</td>\n",
       "      <td>Wasilla</td>\n",
       "      <td>10529.0</td>\n",
       "      <td>Sitka</td>\n",
       "      <td>8647.0</td>\n",
       "    </tr>\n",
       "    <tr>\n",
       "      <th>2</th>\n",
       "      <td>American Samoa</td>\n",
       "      <td>1505</td>\n",
       "      <td>198</td>\n",
       "      <td>1307</td>\n",
       "      <td>49437.0</td>\n",
       "      <td>55519</td>\n",
       "      <td>1*</td>\n",
       "      <td>None</td>\n",
       "      <td>Paogo (Ulafala)</td>\n",
       "      <td>Samoa, Muamua Le Atua</td>\n",
       "      <td>...</td>\n",
       "      <td>Tafuna</td>\n",
       "      <td>7945</td>\n",
       "      <td>Nu'uuli</td>\n",
       "      <td>3955.0</td>\n",
       "      <td>Pago Pago</td>\n",
       "      <td>3656.0</td>\n",
       "      <td>'Ili'ili</td>\n",
       "      <td>3195.0</td>\n",
       "      <td>Pava'ia'i</td>\n",
       "      <td>2450.0</td>\n",
       "    </tr>\n",
       "    <tr>\n",
       "      <th>3</th>\n",
       "      <td>Arizona</td>\n",
       "      <td>295234</td>\n",
       "      <td>294207</td>\n",
       "      <td>1026</td>\n",
       "      <td>7151502.0</td>\n",
       "      <td>6392017</td>\n",
       "      <td>9</td>\n",
       "      <td>Cactus wren</td>\n",
       "      <td>Saguaro cactus blossom</td>\n",
       "      <td>Ditat Deus</td>\n",
       "      <td>...</td>\n",
       "      <td>Phoenix</td>\n",
       "      <td>1660272</td>\n",
       "      <td>Tucson</td>\n",
       "      <td>545975.0</td>\n",
       "      <td>Mesa</td>\n",
       "      <td>508958.0</td>\n",
       "      <td>Chandler</td>\n",
       "      <td>257165.0</td>\n",
       "      <td>Scottsdale</td>\n",
       "      <td>255310.0</td>\n",
       "    </tr>\n",
       "    <tr>\n",
       "      <th>4</th>\n",
       "      <td>Arkansas</td>\n",
       "      <td>137732</td>\n",
       "      <td>134771</td>\n",
       "      <td>2961</td>\n",
       "      <td>3011524.0</td>\n",
       "      <td>2915918</td>\n",
       "      <td>4</td>\n",
       "      <td>Northern mockingbird</td>\n",
       "      <td>Apple blossom</td>\n",
       "      <td>Regnat populus</td>\n",
       "      <td>...</td>\n",
       "      <td>Little Rock</td>\n",
       "      <td>197881</td>\n",
       "      <td>Fort Smith</td>\n",
       "      <td>87845.0</td>\n",
       "      <td>Fayetteville</td>\n",
       "      <td>86751.0</td>\n",
       "      <td>Springdale</td>\n",
       "      <td>81029.0</td>\n",
       "      <td>Jonesboro</td>\n",
       "      <td>76990.0</td>\n",
       "    </tr>\n",
       "  </tbody>\n",
       "</table>\n",
       "<p>5 rows × 26 columns</p>\n",
       "</div>"
      ],
      "text/plain": [
       "              State  Area_tot  Area_land  Area_water   Pop_2020  Pop_2010  \\\n",
       "0          Alabama     135767     131171        4597  5024279.0   4779736   \n",
       "1           Alaska    1723337    1477953      245384   733391.0    710231   \n",
       "2   American Samoa       1505        198        1307    49437.0     55519   \n",
       "3          Arizona     295234     294207        1026  7151502.0   6392017   \n",
       "4         Arkansas     137732     134771        2961  3011524.0   2915918   \n",
       "\n",
       "  Rep_seats                        State_bird             State_flower  \\\n",
       "0         7  Yellowhammer (Northern flicker)                  Camellia   \n",
       "1         1                 Willow ptarmigan            Forget-me-not    \n",
       "2       1*                               None         Paogo (Ulafala)    \n",
       "3         9                      Cactus wren   Saguaro cactus blossom    \n",
       "4         4             Northern mockingbird            Apple blossom    \n",
       "\n",
       "                      State_motto  ...        City_1 city_1_pop       City_2  \\\n",
       "0  Audemus jura nostra defendere   ...   Birmingham      208928  Huntsville    \n",
       "1            North to the Future   ...    Anchorage      291538      Juneau    \n",
       "2          Samoa, Muamua Le Atua   ...       Tafuna        7945     Nu'uuli    \n",
       "3                     Ditat Deus   ...      Phoenix     1660272      Tucson    \n",
       "4                 Regnat populus   ...  Little Rock      197881  Fort Smith    \n",
       "\n",
       "   city_2_pop         City_3  city_3_pop       City_4  city_4_pop  \\\n",
       "0    204189.0    Montgomery     198956.0      Mobile     189572.0   \n",
       "1     32197.0     Fairbanks      31516.0     Wasilla      10529.0   \n",
       "2      3955.0     Pago Pago       3656.0    'Ili'ili       3195.0   \n",
       "3    545975.0          Mesa     508958.0    Chandler     257165.0   \n",
       "4     87845.0  Fayetteville      86751.0  Springdale      81029.0   \n",
       "\n",
       "        City_5  city_5_pop  \n",
       "0  Tuscaloosa     101113.0  \n",
       "1       Sitka       8647.0  \n",
       "2   Pava'ia'i       2450.0  \n",
       "3  Scottsdale     255310.0  \n",
       "4   Jonesboro      76990.0  \n",
       "\n",
       "[5 rows x 26 columns]"
      ]
     },
     "execution_count": 3,
     "metadata": {},
     "output_type": "execute_result"
    }
   ],
   "source": [
    "data = pd.read_csv('../data/state_facts.tsv', delimiter='\\t')\n",
    "data.head()"
   ]
  },
  {
   "cell_type": "code",
   "execution_count": 28,
   "id": "4843d71f-f5fa-4f46-b2b0-04b1476a5205",
   "metadata": {
    "tags": []
   },
   "outputs": [
    {
     "data": {
      "text/plain": [
       "Text(0.5, 1.0, 'Total Area Vs Rep Seats')"
      ]
     },
     "execution_count": 28,
     "metadata": {},
     "output_type": "execute_result"
    },
    {
     "data": {
      "image/png": "[encoded data removed]",
      "text/plain": [
       "<Figure size 720x720 with 1 Axes>"
      ]
     },
     "metadata": {
      "image/png": {
       "height": 613,
       "width": 615
      },
      "needs_background": "light"
     },
     "output_type": "display_data"
    }
   ],
   "source": [
    "p1 = data[['USPS_code','Rep_seats','Area_tot']].plot(kind='bar',figsize=(10,10),colormap=\"magma\")\n",
    "p1.set_xticklabels(data['USPS_code']);\n",
    "p1.set_xlabel('State')\n",
    "p1.set_ylabel('Area')\n",
    "p1.set_title('Total Area Vs Rep Seats')"
   ]
  },
  {
   "cell_type": "code",
   "execution_count": null,
   "id": "6f35d364-84b5-4e53-9c62-6c32ad3c7527",
   "metadata": {},
   "outputs": [],
   "source": [
    "#This plot shows the total area per state versus the total number of representatives in that state"
   ]
  },
  {
   "cell_type": "code",
   "execution_count": 29,
   "id": "a99a248d-d318-4914-b41b-690042f68f34",
   "metadata": {},
   "outputs": [],
   "source": [
    "#I made the plot this way to communicate my results more effectively. The bar graph gives a visual representation of the comparison."
   ]
  }
 ],
 "metadata": {
  "jupytext": {
   "formats": "ipynb"
  },
  "kernelspec": {
   "display_name": "Python 3 (ipykernel)",
   "language": "python",
   "name": "python3"
  },
  "language_info": {
   "codemirror_mode": {
    "name": "ipython",
    "version": 3
   },
   "file_extension": ".py",
   "mimetype": "text/x-python",
   "name": "python",
   "nbconvert_exporter": "python",
   "pygments_lexer": "ipython3",
   "version": "3.9.12"
  }
 },
 "nbformat": 4,
 "nbformat_minor": 5
}
